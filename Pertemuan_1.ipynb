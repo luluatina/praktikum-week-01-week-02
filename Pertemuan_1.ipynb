{
  "nbformat": 4,
  "nbformat_minor": 0,
  "metadata": {
    "colab": {
      "provenance": []
    },
    "kernelspec": {
      "name": "python3",
      "display_name": "Python 3"
    },
    "language_info": {
      "name": "python"
    }
  },
  "cells": [
    {
      "cell_type": "markdown",
      "source": [],
      "metadata": {
        "id": "fCEvWxBEN8p-"
      }
    },
    {
      "cell_type": "code",
      "source": [],
      "metadata": {
        "id": "TeabaehOQj9_"
      },
      "execution_count": null,
      "outputs": []
    },
    {
      "cell_type": "code",
      "source": [
        "  print ('Nama           : Luluatina Zakiyatal Fikri')\n",
        "  print ()\n",
        "  print ('NPM            : 2420506034')\n",
        "  print ()\n",
        "  print ('Alamat         : Kaliangkrik, Magelang')\n",
        "  print ()\n",
        "  print ('Tinggi Badan   : 163')\n",
        "  print ()\n",
        "  print ('Berat Badan    : 68')\n",
        "\n"
      ],
      "metadata": {
        "colab": {
          "base_uri": "https://localhost:8080/"
        },
        "id": "UeOjnllOThDn",
        "outputId": "a50c6971-50f9-4a10-a927-8626d84f4dda"
      },
      "execution_count": null,
      "outputs": [
        {
          "output_type": "stream",
          "name": "stdout",
          "text": [
            "Nama           : Luluatina Zakiyatal Fikri\n",
            "\n",
            "NPM            : 2420506034\n",
            "\n",
            "Alamat         : Kaliangkrik, Magelang\n",
            "\n",
            "Tinggi Badan   : 163\n",
            "\n",
            "Berat Badan    : 68\n"
          ]
        }
      ]
    },
    {
      "cell_type": "code",
      "source": [
        "print ('\\033[1mUNIVERSITAS TIDAR\\033[0m')\n",
        "print ('Universitas Tidar merupakan Perguruan Tinggi Pemerintah atau Perguruan Tinggi Negeri yang telah ditetapkan berdasarkan Peraturan Presiden Republik Indonesia')\n",
        "print ()\n",
        "print ('\\033[1mJURUSAN TEKNIK ELEKTRO, MEKATRONIKA, DAN INFORMASI\\033[0m')\n",
        "print ('Jurusan Teknik Elektro terdiri atas tiga program studi, antara lain :')\n",
        "print ('    1. S1 Teknik Elektro \\033[3m(Bachelor of Electrical Engineering)[0m')\n",
        "print ('    2. \\033[0mS1 Teknologi Informasi \\033[3m(Bachelor of Information Technology)')\n",
        "print ('    3. \\033[0mS1 Teknik Mekatronika \\033[3m(Bachelor of Mechatronics Engineering)')\n"
      ],
      "metadata": {
        "colab": {
          "base_uri": "https://localhost:8080/"
        },
        "id": "rH3w0EwLZzaT",
        "outputId": "08cb8ab7-8d3c-42ff-f554-908eb0070635"
      },
      "execution_count": null,
      "outputs": [
        {
          "output_type": "stream",
          "name": "stdout",
          "text": [
            "\u001b[1mUNIVERSITAS TIDAR\u001b[0m\n",
            "Universitas Tidar merupakan Perguruan Tinggi Pemerintah atau Perguruan Tinggi Negeri yang telah ditetapkan berdasarkan Peraturan Presiden Republik Indonesia\n",
            "\n",
            "\u001b[1mJURUSAN TEKNIK ELEKTRO, MEKATRONIKA, DAN INFORMASI\u001b[0m\n",
            "Jurusan Teknik Elektro terdiri atas tiga program studi, antara lain :\n",
            "    1. S1 Teknik Elektro \u001b[3m(Bachelor of Electrical Engineering)[0m\n",
            "    2. \u001b[0mS1 Teknologi Informasi \u001b[3m(Bachelor of Information Technology)\n",
            "    3. \u001b[0mS1 Teknik Mekatronika \u001b[3m(Bachelor of Mechatronics Engineering)\n"
          ]
        }
      ]
    },
    {
      "cell_type": "markdown",
      "source": [
        "Say \"Hello\" tp the world ini Python"
      ],
      "metadata": {
        "id": "gZv8SNmCOuc0"
      }
    },
    {
      "cell_type": "code",
      "source": [
        "panjang = 20.5\n",
        "lebar = 25\n",
        "tinggi = 10\n",
        "\n",
        "keliling = 2 * (panjang + lebar)\n",
        "luas = panjang * lebar\n",
        "volume = panjang * lebar * tinggi\n",
        "\n",
        "print(\"Panjang = \" + str(panjang))\n",
        "print(\"Lebar = \" + str(lebar))\n",
        "print(\"Tinggi = \" + str(tinggi))\n",
        "print(\"Keliling = \" + str(keliling))\n",
        "print(\"Volume = \" + str(volume))\n"
      ],
      "metadata": {
        "colab": {
          "base_uri": "https://localhost:8080/"
        },
        "id": "h1hxf1SEQlm8",
        "outputId": "57341794-97b8-44c7-d5bd-ff4c4f63ebc6"
      },
      "execution_count": null,
      "outputs": [
        {
          "output_type": "stream",
          "name": "stdout",
          "text": [
            "Panjang = 20.5\n",
            "Lebar = 25\n",
            "Tinggi = 10\n",
            "Keliling = 91.0\n",
            "Volume = 5125.0\n"
          ]
        }
      ]
    },
    {
      "cell_type": "markdown",
      "source": [],
      "metadata": {
        "id": "HA-BZwcmNcFB"
      }
    },
    {
      "cell_type": "markdown",
      "source": [],
      "metadata": {
        "id": "LAF91WuXUEq_"
      }
    },
    {
      "cell_type": "code",
      "source": [
        "# Data mahasiswa\n",
        "data = {\n",
        "    \"Shafira\": [85, 75],\n",
        "    \"Amanda\": [80, 90],\n",
        "    \"Aditya\": [75, 80],\n",
        "    \"Nedia\": [95, 80],\n",
        "    \"Widya\": [85, 85],\n",
        "    \"Hanif\": [75, 90],\n",
        "    \"Andi\": [70, 75],\n",
        "    \"Dhanar\": [85, 85],\n",
        "    \"Hikma\": [80, 75]\n",
        "}\n",
        "\n",
        "# Perhitungan\n",
        "# 1. Rata-rata nilai Shafira\n",
        "rata_rata_shafira = sum(data[\"Shafira\"]) / len(data[\"Shafira\"])\n",
        "\n",
        "# 2. Jumlah nilai Hanif dan Andi\n",
        "jumlah_hanif_andi = sum(data[\"Hanif\"]) + sum(data[\"Andi\"])\n",
        "\n",
        "# 3. Rata-rata nilai Widya, Dhanar, Hikma, Nedia\n",
        "data_tertentu = [\"Widya\", \"Dhanar\", \"Hikma\", \"Nedia\"]\n",
        "rata_rata_kalkulus_tertentu = sum([data[m][0] for m in data_tertentu]) / len(data_tertentu)\n",
        "rata_rata_statistika_tertentu = sum([data[m][1] for m in data_tertentu]) / len(data_tertentu)\n",
        "\n",
        "# 4. Rata-rata nilai semua mahasiswa per mata kuliah\n",
        "rata_rata_kalkulus_semua = sum([nilai[0] for nilai in data.values()]) / len(data)\n",
        "rata_rata_statistika_semua = sum([nilai[1] for nilai in data.values()]) / len(data)\n",
        "\n",
        "# Output\n",
        "print(\"Rata-rata nilai Shafira:\", rata_rata_shafira)\n",
        "print(\"Jumlah nilai Hanif dan Andi:\", jumlah_hanif_andi)\n",
        "print(\"Rata-rata nilai Kalkulus 1 untuk Widya, Dhanar, Hikma, Nedia:\", rata_rata_kalkulus_tertentu)\n",
        "print(\"Rata-rata nilai Metode Statistika untuk Widya, Dhanar, Hikma, Nedia:\", rata_rata_statistika_tertentu)\n",
        "print(\"Rata-rata nilai Kalkulus 1 untuk semua mahasiswa:\", rata_rata_kalkulus_semua)\n",
        "print(\"Rata-rata nilai Metode Statistika untuk semua mahasiswa:\", rata_rata_statistika_semua)"
      ],
      "metadata": {
        "colab": {
          "base_uri": "https://localhost:8080/"
        },
        "id": "nBN_Z__8TSHt",
        "outputId": "8cf2271b-6134-4021-a0a0-15c48a620dd6"
      },
      "execution_count": null,
      "outputs": [
        {
          "output_type": "stream",
          "name": "stdout",
          "text": [
            "Rata-rata nilai Shafira: 80.0\n",
            "Jumlah nilai Hanif dan Andi: 310\n",
            "Rata-rata nilai Kalkulus 1 untuk Widya, Dhanar, Hikma, Nedia: 86.25\n",
            "Rata-rata nilai Metode Statistika untuk Widya, Dhanar, Hikma, Nedia: 81.25\n",
            "Rata-rata nilai Kalkulus 1 untuk semua mahasiswa: 81.11111111111111\n",
            "Rata-rata nilai Metode Statistika untuk semua mahasiswa: 81.66666666666667\n"
          ]
        }
      ]
    },
    {
      "cell_type": "code",
      "source": [
        "# Data\n",
        "jam_kerja_per_hari = 8\n",
        "honor_per_jam = 30000\n",
        "hari_kerja_bulan = 31\n",
        "hari_tidak_masuk = 3\n",
        "tunjangan_persen = 0.10\n",
        "upah_lembur_per_jam = 10000\n",
        "jam_lembur = 5\n",
        "\n",
        "# 1. Hitung gaji bulan Agustus\n",
        "jumlah_hari_masuk = hari_kerja_bulan - hari_tidak_masuk\n",
        "gaji_bulan_Agustus = jumlah_hari_masuk * jam_kerja_per_hari * honor_per_jam\n",
        "\n",
        "# 2. Hitung tunjangan\n",
        "tunjangan = gaji_bulan_Agustus * tunjangan_persen\n",
        "\n",
        "# 3. Hitung gaji total termasuk lembur\n",
        "gaji_lembur = jam_lembur * upah_lembur_per_jam\n",
        "gaji_total = gaji_bulan_Agustus + gaji_lembur\n",
        "\n",
        "# Tampilkan hasil\n",
        "print(f\"1. Gaji pada bulan Agustus jika Dwi tidak masuk kerja selama {hari_tidak_masuk} hari: Rp {gaji_bulan_Agustus:,.0f}\")\n",
        "print(f\"2. Tunjangan yang diterima oleh Dwi pada bulan Agustus: Rp {tunjangan:,.0f}\")\n",
        "print(f\"3. Gaji total yang diterima oleh Dwi pada bulan Agustus termasuk lembur: Rp {gaji_total:,.0f}\")\n"
      ],
      "metadata": {
        "colab": {
          "base_uri": "https://localhost:8080/"
        },
        "id": "Z-d0i0jzT57I",
        "outputId": "fa1b0af3-1a8c-4238-ff6e-4067bc3bfff0"
      },
      "execution_count": null,
      "outputs": [
        {
          "output_type": "stream",
          "name": "stdout",
          "text": [
            "1. Gaji pada bulan Agustus jika Dwi tidak masuk kerja selama 3 hari: Rp 6,720,000\n",
            "2. Tunjangan yang diterima oleh Dwi pada bulan Agustus: Rp 672,000\n",
            "3. Gaji total yang diterima oleh Dwi pada bulan Agustus termasuk lembur: Rp 6,770,000\n"
          ]
        }
      ]
    },
    {
      "cell_type": "markdown",
      "source": [],
      "metadata": {
        "id": "gENJXURgyCez"
      }
    },
    {
      "cell_type": "code",
      "source": [],
      "metadata": {
        "id": "-Yemqyod3jlb"
      },
      "execution_count": null,
      "outputs": []
    }
  ]
}